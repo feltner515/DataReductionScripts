{
 "cells": [
  {
   "cell_type": "code",
   "execution_count": 6,
   "id": "3face7cb-a804-4084-8cbe-b843522ffdca",
   "metadata": {},
   "outputs": [],
   "source": [
    "import numpy as np\n",
    "import scipy as sp\n",
    "import matplotlib as mpl\n",
    "import pandas as pd\n",
    "import csv\n",
    "from scipy.optimize import curve_fit\n",
    "import matplotlib.pyplot as plt\n",
    "from scipy.interpolate import CubicSpline\n",
    "from scipy import integrate\n",
    "from lmfit import minimize, Parameters, Parameter, report_fit\n",
    "from sklearn import datasets\n",
    "from sklearn.linear_model import LinearRegression\n",
    "import random\n",
    "#############################################################################\n",
    "def meanvals(data_fileroot, size, cells):\n",
    "    ''' Reads data from CSV, sorts, and renames columns'''\n",
    "    fin = (data_fileroot+\".csv\")\n",
    "    data=pd.read_csv(fin)\n",
    "    data.rename(columns = {'S-Max. Principal (Abs)':'stress'}, inplace = True)\n",
    "    data=data.drop(columns=['ODB Name' , 'Step' ,'Frame', 'Part Instance Name', 'Section Name', 'Material Name', 'Section Point'])\n",
    "    data = data.sort_values(by=['X', 'Y','Z'], ascending=False)\n",
    "    datamatrix=np.array(data)\n",
    "    #############################################################################\n",
    "    stressmatrix=np.empty((2016032,4))\n",
    "    for n in range (1,22176352,11):\n",
    "        stressmatrix[int((n-1)/11),0]=datamatrix[n,1]\n",
    "        stressmatrix[int((n-1)/11),1]=datamatrix[n,2]\n",
    "        stressmatrix[int((n-1)/11),2]=datamatrix[n,3]\n",
    "        stressmatrix[int((n-1)/11),3]=np.average(datamatrix[n-1:n+9,4])\n",
    "        \n",
    "    #############################################################################\n",
    "    for n in range (0,len(stressmatrix),32):\n",
    "        n=n\n",
    "    depthvalues=stressmatrix[n:n+32,2]\n",
    "    \n",
    "    #############################################################################\n",
    "    lengthdivisions=np.sqrt(int(cells))\n",
    "    temp=lengthdivisions-1\n",
    "    bounds=np.empty((int(lengthdivisions-1),1))\n",
    "    y=lengthdivisions-1\n",
    "    while y>=1:\n",
    "        bounds[int(y)-1]=(y/lengthdivisions)*size\n",
    "        y=y-1\n",
    "    #############################################################################\n",
    "    binnumber=np.empty((len(stressmatrix),1))\n",
    "    for n in range (0,len(stressmatrix),1):\n",
    "        tempbin=np.empty((2,1))\n",
    "        tempbin[0]=np.digitize(stressmatrix[n,0], bounds.flatten(),right=True)\n",
    "        tempbin[1]=np.digitize(stressmatrix[n,1], bounds.flatten(),right=True)\n",
    "        binnumbertemp=((tempbin[0])*(int(lengthdivisions))**0)+((tempbin[1])*(int(lengthdivisions))**1)\n",
    "        binnumber[n]=int(binnumbertemp)\n",
    "\n",
    "\n",
    "    stressmatrix_bins=np.append(stressmatrix,binnumber, axis=1)\n",
    "    stressmatrix_bins=pd.DataFrame(stressmatrix_bins, columns=['X','Y','Z','stress','bins'])\n",
    "    stressmatrix_bins=np.array(stressmatrix_bins.sort_values(by=['bins', 'Z','X','Y'], ascending=False))\n",
    "    #############################################################################\n",
    "    unique, counts = np.unique(stressmatrix_bins[:,4], return_counts=True)\n",
    "    unique=np.flip(unique)\n",
    "    counts=np.flip(counts)\n",
    "    uniquedepths, countsdepths = np.unique(stressmatrix_bins[:,2], return_counts=True)\n",
    "    #############################################################################\n",
    "    \n",
    "    runningsum=0\n",
    "    binstressmatrix=np.empty((len(uniquedepths),len(unique)))\n",
    "    for n in range (0,len(unique),1):\n",
    "        temp_bins=np.empty((counts[n],1))\n",
    "        temp_depths=np.empty((counts[n],1))\n",
    "        #temp_bins=np.array([stressmatrix_bins.Z[runningsum-counts[n]:runningsum],stressmatrix_bins.stress[runningsum-counts[n]:runningsum]])\n",
    "        temp_bins=stressmatrix_bins[runningsum:runningsum+counts[n]-1,3]\n",
    "        temp_depths=stressmatrix_bins[runningsum:runningsum+counts[n]-1,2]\n",
    "        uniquedepths, countsdepths = np.unique(temp_depths, return_counts=True)\n",
    "        runningsum=runningsum+counts[n]\n",
    "        runningrows=0\n",
    "        for p in range (0,len(uniquedepths),1):\n",
    "            binstressmatrix[p,n]=np.average(temp_bins[runningrows:runningrows+countsdepths[p]-1])\n",
    "            runningrows=runningrows+countsdepths[p]\n",
    "            \n",
    "            \n",
    "    #############################################################################\n",
    "\n",
    "    fig, ax2 = plt.subplots(1, 1)\n",
    "\n",
    "    crossoverpts=np.empty((len(unique),1))\n",
    "    totalwork=np.empty((len(unique),1))\n",
    "    bestvals=np.empty((len(unique),3))\n",
    "    bestvals2=np.empty((len(unique),3))\n",
    "\n",
    "    def mod_st_exp(x,c,tau,beta):\n",
    "            return (c*(np.exp(1-(((x)/tau)**(x/beta)))))\n",
    "\n",
    "    for r in range (0,len(unique),1):\n",
    "       \n",
    "        init_vals =[float(binstressmatrix[0,r]), 0.2, 5]\n",
    "\n",
    "        bounds=((-10000,0.01,-10),(0,10,10))\n",
    "        \n",
    "        best_vals, covar = curve_fit(mod_st_exp, -(depthvalues), (binstressmatrix[:,r]), p0=init_vals, bounds=bounds, absolute_sigma=False, maxfev=150000)\n",
    "        \n",
    "        bestvals[r]=best_vals\n",
    "\n",
    "\n",
    "        ax2.plot(-depthvalues, binstressmatrix[:,r], label='Simulation Data %(#)03d' % \\\n",
    "              { \"#\": r+1})\n",
    "        ax2.plot(-depthvalues, mod_st_exp(-depthvalues,*best_vals), label=\"Mod. Stretch Exp. Fit\", color='orange')\n",
    "        ax2.set_xlabel('Depth (mm)')\n",
    "        ax2.set_ylabel('Induced Stress (MPa)')\n",
    "        ax2.set_title('Modified Exponential Fit')\n",
    "\n",
    "    ax2.grid()\n",
    "    print(bestvals)\n",
    "    return(bestvals, stressmatrix)\n",
    "\n",
    "def RSD(stressmatrix, size, cells):\n",
    "    ''' Reads data from CSV, sorts, and renames columns'''\n",
    "    for n in range (0,len(stressmatrix),32):\n",
    "        n=n\n",
    "    depthvalues=stressmatrix[n:n+32,2]\n",
    "    \n",
    "    #############################################################################\n",
    "    lengthdivisions=np.sqrt(int(cells))\n",
    "    temp=lengthdivisions-1\n",
    "    bounds=np.empty((int(lengthdivisions-1),1))\n",
    "    y=lengthdivisions-1\n",
    "    while y>=1:\n",
    "        bounds[int(y)-1]=(y/lengthdivisions)*size\n",
    "        y=y-1\n",
    "    #############################################################################\n",
    "    binnumber=np.empty((len(stressmatrix),1))\n",
    "    for n in range (0,len(stressmatrix),1):\n",
    "        tempbin=np.empty((2,1))\n",
    "        tempbin[0]=np.digitize(stressmatrix[n,0], bounds.flatten(),right=True)\n",
    "        tempbin[1]=np.digitize(stressmatrix[n,1], bounds.flatten(),right=True)\n",
    "        binnumbertemp=((tempbin[0])*(int(lengthdivisions))**0)+((tempbin[1])*(int(lengthdivisions))**1)\n",
    "        binnumber[n]=int(binnumbertemp)\n",
    "\n",
    "\n",
    "    stressmatrix_bins=np.append(stressmatrix,binnumber, axis=1)\n",
    "    stressmatrix_bins=pd.DataFrame(stressmatrix_bins, columns=['X','Y','Z','stress','bins'])\n",
    "    stressmatrix_bins=np.array(stressmatrix_bins.sort_values(by=['bins', 'Z','X','Y'], ascending=False))\n",
    "    #############################################################################\n",
    "    unique, counts = np.unique(stressmatrix_bins[:,4], return_counts=True)\n",
    "    unique=np.flip(unique)\n",
    "    counts=np.flip(counts)\n",
    "    uniquedepths, countsdepths = np.unique(stressmatrix_bins[:,2], return_counts=True)\n",
    "    #############################################################################\n",
    "    \n",
    "    runningsum=0\n",
    "    binstressmatrix=np.empty((len(uniquedepths),len(unique)))\n",
    "    for n in range (0,len(unique),1):\n",
    "        temp_bins=np.empty((counts[n],1))\n",
    "        temp_depths=np.empty((counts[n],1))\n",
    "        #temp_bins=np.array([stressmatrix_bins.Z[runningsum-counts[n]:runningsum],stressmatrix_bins.stress[runningsum-counts[n]:runningsum]])\n",
    "        temp_bins=stressmatrix_bins[runningsum:runningsum+counts[n]-1,3]\n",
    "        temp_depths=stressmatrix_bins[runningsum:runningsum+counts[n]-1,2]\n",
    "        uniquedepths, countsdepths = np.unique(temp_depths, return_counts=True)\n",
    "        runningsum=runningsum+counts[n]\n",
    "        runningrows=0\n",
    "        for p in range (0,len(uniquedepths),1):\n",
    "            binstressmatrix[p,n]=np.average(temp_bins[runningrows:runningrows+countsdepths[p]-1])\n",
    "            runningrows=runningrows+countsdepths[p]\n",
    "            \n",
    "            \n",
    "    #############################################################################\n",
    "\n",
    "    #fig, ax2 = plt.subplots(1, 1)\n",
    "\n",
    "    crossoverpts=np.empty((len(unique),1))\n",
    "    totalwork=np.empty((len(unique),1))\n",
    "    bestvals=np.empty((len(unique),3))\n",
    "    bestvals2=np.empty((len(unique),3))\n",
    "\n",
    "    def mod_st_exp(x,c,tau,beta):\n",
    "            return (c*(np.exp(1-(((x)/tau)**(x/beta)))))\n",
    "\n",
    "    for r in range (0,len(unique),1):\n",
    "       \n",
    "        init_vals =[float(binstressmatrix[0,r]), 0.2, 5]\n",
    "\n",
    "        bounds=((-10000,0.01,-10),(0,10,10))\n",
    "        \n",
    "        best_vals, covar = curve_fit(mod_st_exp, -(depthvalues), (binstressmatrix[:,r]), p0=init_vals, bounds=bounds, absolute_sigma=False, maxfev=150000)\n",
    "        \n",
    "        bestvals[r]=best_vals\n",
    "\n",
    "\n",
    "        '''\n",
    "        ax2.plot(-depthvalues, binstressmatrix[:,r], label='Simulation Data %(#)03d' % \\\n",
    "              { \"#\": r+1})\n",
    "        ax2.plot(-depthvalues, mod_st_exp(-depthvalues,*best_vals), label=\"Mod. Stretch Exp. Fit\", color='orange')\n",
    "        ax2.set_xlabel('Depth (mm)')\n",
    "        ax2.set_ylabel('Induced Stress (MPa)')\n",
    "        ax2.set_title('Modified Exponential Fit')\n",
    "        '''\n",
    "\n",
    "    #ax2.grid()\n",
    "    #print(bestvals)\n",
    "    return(np.std(bestvals[:,0]),np.std(bestvals[:,1]),np.std(bestvals[:,2]))"
   ]
  },
  {
   "cell_type": "markdown",
   "id": "83161f31",
   "metadata": {},
   "source": [
    "create second function without print statements to suppress outputs \\n\n",
    "first command returns mean values \\n\n",
    "second returns RSD values \\n\n",
    "figure out how to get rid of calling and resorting data each iteration \\n"
   ]
  },
  {
   "cell_type": "code",
   "execution_count": 2,
   "id": "9ee6ddf9-0b3c-47dc-b681-e50fd51757da",
   "metadata": {},
   "outputs": [
    {
     "name": "stdout",
     "output_type": "stream",
     "text": [
      "[[-1.28884788e+03  8.91228065e-02  1.81712765e-01]]\n"
     ]
    },
    {
     "data": {
      "image/png": "[encoded data removed]",
      "text/plain": [
       "<Figure size 640x480 with 1 Axes>"
      ]
     },
     "metadata": {},
     "output_type": "display_data"
    }
   ],
   "source": [
    "meanvalues, stressmatrix1=meanvals(\"CW32_0945_20_49100_45000_90\", 5, 1)"
   ]
  },
  {
   "cell_type": "code",
   "execution_count": 3,
   "id": "cee7081f",
   "metadata": {},
   "outputs": [
    {
     "data": {
      "text/plain": [
       "array([[ 5.000000e+00,  5.000000e+00, -4.000000e-08, -1.213833e+03],\n",
       "       [ 5.000000e+00,  5.000000e+00, -1.200000e-02, -1.257543e+03],\n",
       "       [ 5.000000e+00,  5.000000e+00, -2.487560e-02, -1.315516e+03],\n",
       "       ...,\n",
       "       [ 0.000000e+00,  0.000000e+00, -1.103260e+00, -5.978680e+00],\n",
       "       [ 0.000000e+00,  0.000000e+00, -1.195760e+00,  1.712900e+00],\n",
       "       [ 0.000000e+00,  0.000000e+00, -1.295000e+00,  9.133310e+00]])"
      ]
     },
     "execution_count": 3,
     "metadata": {},
     "output_type": "execute_result"
    }
   ],
   "source": [
    "stressmatrix1"
   ]
  },
  {
   "cell_type": "code",
   "execution_count": 8,
   "id": "d92cfd9d",
   "metadata": {},
   "outputs": [
    {
     "name": "stdout",
     "output_type": "stream",
     "text": [
      "1\n",
      "2\n",
      "3\n"
     ]
    },
    {
     "name": "stderr",
     "output_type": "stream",
     "text": [
      "/var/folders/q6/xbddtjys7yl2czx_6w1s5f6m0000gn/T/ipykernel_24391/3047659187.py:174: RuntimeWarning: overflow encountered in power\n",
      "  return (c*(np.exp(1-(((x)/tau)**(x/beta)))))\n"
     ]
    },
    {
     "name": "stdout",
     "output_type": "stream",
     "text": [
      "4\n",
      "5\n",
      "6\n"
     ]
    },
    {
     "name": "stderr",
     "output_type": "stream",
     "text": [
      "/var/folders/q6/xbddtjys7yl2czx_6w1s5f6m0000gn/T/ipykernel_24391/3047659187.py:174: RuntimeWarning: overflow encountered in power\n",
      "  return (c*(np.exp(1-(((x)/tau)**(x/beta)))))\n"
     ]
    },
    {
     "name": "stdout",
     "output_type": "stream",
     "text": [
      "7\n"
     ]
    },
    {
     "name": "stderr",
     "output_type": "stream",
     "text": [
      "/var/folders/q6/xbddtjys7yl2czx_6w1s5f6m0000gn/T/ipykernel_24391/3047659187.py:174: RuntimeWarning: overflow encountered in power\n",
      "  return (c*(np.exp(1-(((x)/tau)**(x/beta)))))\n"
     ]
    },
    {
     "name": "stdout",
     "output_type": "stream",
     "text": [
      "8\n"
     ]
    },
    {
     "name": "stderr",
     "output_type": "stream",
     "text": [
      "/var/folders/q6/xbddtjys7yl2czx_6w1s5f6m0000gn/T/ipykernel_24391/3047659187.py:174: RuntimeWarning: overflow encountered in power\n",
      "  return (c*(np.exp(1-(((x)/tau)**(x/beta)))))\n"
     ]
    },
    {
     "name": "stdout",
     "output_type": "stream",
     "text": [
      "9\n"
     ]
    },
    {
     "name": "stderr",
     "output_type": "stream",
     "text": [
      "/var/folders/q6/xbddtjys7yl2czx_6w1s5f6m0000gn/T/ipykernel_24391/3047659187.py:174: RuntimeWarning: overflow encountered in power\n",
      "  return (c*(np.exp(1-(((x)/tau)**(x/beta)))))\n"
     ]
    },
    {
     "name": "stdout",
     "output_type": "stream",
     "text": [
      "10\n"
     ]
    },
    {
     "name": "stderr",
     "output_type": "stream",
     "text": [
      "/var/folders/q6/xbddtjys7yl2czx_6w1s5f6m0000gn/T/ipykernel_24391/3047659187.py:174: RuntimeWarning: overflow encountered in power\n",
      "  return (c*(np.exp(1-(((x)/tau)**(x/beta)))))\n"
     ]
    },
    {
     "name": "stdout",
     "output_type": "stream",
     "text": [
      "11\n"
     ]
    },
    {
     "name": "stderr",
     "output_type": "stream",
     "text": [
      "/var/folders/q6/xbddtjys7yl2czx_6w1s5f6m0000gn/T/ipykernel_24391/3047659187.py:174: RuntimeWarning: overflow encountered in power\n",
      "  return (c*(np.exp(1-(((x)/tau)**(x/beta)))))\n"
     ]
    },
    {
     "name": "stdout",
     "output_type": "stream",
     "text": [
      "12\n"
     ]
    },
    {
     "name": "stderr",
     "output_type": "stream",
     "text": [
      "/var/folders/q6/xbddtjys7yl2czx_6w1s5f6m0000gn/T/ipykernel_24391/3047659187.py:174: RuntimeWarning: overflow encountered in power\n",
      "  return (c*(np.exp(1-(((x)/tau)**(x/beta)))))\n"
     ]
    },
    {
     "name": "stdout",
     "output_type": "stream",
     "text": [
      "13\n"
     ]
    },
    {
     "name": "stderr",
     "output_type": "stream",
     "text": [
      "/var/folders/q6/xbddtjys7yl2czx_6w1s5f6m0000gn/T/ipykernel_24391/3047659187.py:174: RuntimeWarning: overflow encountered in power\n",
      "  return (c*(np.exp(1-(((x)/tau)**(x/beta)))))\n"
     ]
    },
    {
     "name": "stdout",
     "output_type": "stream",
     "text": [
      "14\n"
     ]
    },
    {
     "name": "stderr",
     "output_type": "stream",
     "text": [
      "/var/folders/q6/xbddtjys7yl2czx_6w1s5f6m0000gn/T/ipykernel_24391/3047659187.py:174: RuntimeWarning: overflow encountered in power\n",
      "  return (c*(np.exp(1-(((x)/tau)**(x/beta)))))\n"
     ]
    },
    {
     "name": "stdout",
     "output_type": "stream",
     "text": [
      "15\n"
     ]
    },
    {
     "name": "stderr",
     "output_type": "stream",
     "text": [
      "/var/folders/q6/xbddtjys7yl2czx_6w1s5f6m0000gn/T/ipykernel_24391/3047659187.py:174: RuntimeWarning: overflow encountered in power\n",
      "  return (c*(np.exp(1-(((x)/tau)**(x/beta)))))\n"
     ]
    },
    {
     "name": "stdout",
     "output_type": "stream",
     "text": [
      "16\n"
     ]
    },
    {
     "name": "stderr",
     "output_type": "stream",
     "text": [
      "/var/folders/q6/xbddtjys7yl2czx_6w1s5f6m0000gn/T/ipykernel_24391/3047659187.py:174: RuntimeWarning: overflow encountered in power\n",
      "  return (c*(np.exp(1-(((x)/tau)**(x/beta)))))\n"
     ]
    },
    {
     "name": "stdout",
     "output_type": "stream",
     "text": [
      "17\n"
     ]
    },
    {
     "name": "stderr",
     "output_type": "stream",
     "text": [
      "/var/folders/q6/xbddtjys7yl2czx_6w1s5f6m0000gn/T/ipykernel_24391/3047659187.py:174: RuntimeWarning: overflow encountered in power\n",
      "  return (c*(np.exp(1-(((x)/tau)**(x/beta)))))\n"
     ]
    },
    {
     "name": "stdout",
     "output_type": "stream",
     "text": [
      "18\n"
     ]
    },
    {
     "name": "stderr",
     "output_type": "stream",
     "text": [
      "/var/folders/q6/xbddtjys7yl2czx_6w1s5f6m0000gn/T/ipykernel_24391/3047659187.py:174: RuntimeWarning: overflow encountered in power\n",
      "  return (c*(np.exp(1-(((x)/tau)**(x/beta)))))\n"
     ]
    },
    {
     "name": "stdout",
     "output_type": "stream",
     "text": [
      "19\n"
     ]
    },
    {
     "name": "stderr",
     "output_type": "stream",
     "text": [
      "/var/folders/q6/xbddtjys7yl2czx_6w1s5f6m0000gn/T/ipykernel_24391/3047659187.py:174: RuntimeWarning: overflow encountered in power\n",
      "  return (c*(np.exp(1-(((x)/tau)**(x/beta)))))\n"
     ]
    },
    {
     "name": "stdout",
     "output_type": "stream",
     "text": [
      "20\n"
     ]
    },
    {
     "name": "stderr",
     "output_type": "stream",
     "text": [
      "/var/folders/q6/xbddtjys7yl2czx_6w1s5f6m0000gn/T/ipykernel_24391/3047659187.py:174: RuntimeWarning: overflow encountered in power\n",
      "  return (c*(np.exp(1-(((x)/tau)**(x/beta)))))\n"
     ]
    },
    {
     "name": "stdout",
     "output_type": "stream",
     "text": [
      "21\n"
     ]
    },
    {
     "name": "stderr",
     "output_type": "stream",
     "text": [
      "/var/folders/q6/xbddtjys7yl2czx_6w1s5f6m0000gn/T/ipykernel_24391/3047659187.py:174: RuntimeWarning: overflow encountered in power\n",
      "  return (c*(np.exp(1-(((x)/tau)**(x/beta)))))\n"
     ]
    },
    {
     "name": "stdout",
     "output_type": "stream",
     "text": [
      "22\n"
     ]
    },
    {
     "name": "stderr",
     "output_type": "stream",
     "text": [
      "/var/folders/q6/xbddtjys7yl2czx_6w1s5f6m0000gn/T/ipykernel_24391/3047659187.py:174: RuntimeWarning: overflow encountered in power\n",
      "  return (c*(np.exp(1-(((x)/tau)**(x/beta)))))\n"
     ]
    },
    {
     "name": "stdout",
     "output_type": "stream",
     "text": [
      "23\n"
     ]
    },
    {
     "name": "stderr",
     "output_type": "stream",
     "text": [
      "/var/folders/q6/xbddtjys7yl2czx_6w1s5f6m0000gn/T/ipykernel_24391/3047659187.py:174: RuntimeWarning: overflow encountered in power\n",
      "  return (c*(np.exp(1-(((x)/tau)**(x/beta)))))\n"
     ]
    },
    {
     "name": "stdout",
     "output_type": "stream",
     "text": [
      "24\n"
     ]
    }
   ],
   "source": [
    "rsdvals=np.empty((25,3))\n",
    "for n in range (1,25,1):\n",
    "    num=RSD(stressmatrix1, 5, int(n**2))\n",
    "    rsdvals[n-1,:]=num/meanvalues\n",
    "    print(n)\n",
    "rsdvals=np.array(rsdvals)\n",
    "np.savetxt(\"CW32_0945_20_49100_45000_90_RSD1.csv\", rsdvals, delimiter=\",\")"
   ]
  }
 ],
 "metadata": {
  "kernelspec": {
   "display_name": "Python 3.9.13 ('base')",
   "language": "python",
   "name": "python3"
  },
  "language_info": {
   "codemirror_mode": {
    "name": "ipython",
    "version": 3
   },
   "file_extension": ".py",
   "mimetype": "text/x-python",
   "name": "python",
   "nbconvert_exporter": "python",
   "pygments_lexer": "ipython3",
   "version": "3.9.13"
  },
  "vscode": {
   "interpreter": {
    "hash": "3067ead486e059ec00ffe7555bdb889e6e264a24dc711bf108106cc7baee8d5d"
   }
  }
 },
 "nbformat": 4,
 "nbformat_minor": 5
}
